{
 "cells": [
  {
   "cell_type": "raw",
   "id": "a8f3726d",
   "metadata": {},
   "source": [
    "1.In a linear equation, what is the difference between a dependent variable and an independent\n",
    "variable?"
   ]
  },
  {
   "cell_type": "raw",
   "id": "5fc169c0",
   "metadata": {},
   "source": [
    "ans:\n",
    "Algebraically, a linear equation typically takes the form y = mx + b, where m and b are constants, x is the independent variable, y is the dependent variable. The slope tells us how the dependent variable (y) changes for every one unit increase in the independent (x) variable, on average.\n",
    "\n",
    "The variables in a study of a cause-and-effect relationship are called the independent and dependent variables. The independent variable is the cause. Its value is independent of other variables in your study. The dependent variable is the effect"
   ]
  },
  {
   "cell_type": "code",
   "execution_count": null,
   "id": "ce9e02cf",
   "metadata": {},
   "outputs": [],
   "source": []
  },
  {
   "cell_type": "code",
   "execution_count": null,
   "id": "7049251e",
   "metadata": {},
   "outputs": [],
   "source": []
  },
  {
   "cell_type": "raw",
   "id": "acd7a746",
   "metadata": {},
   "source": [
    "2. What is the concept of simple linear regression? Give a specific example."
   ]
  },
  {
   "cell_type": "raw",
   "id": "69d9d255",
   "metadata": {},
   "source": [
    "ans:\n",
    "Simple linear regression is a regression model that estimates the relationship between one independent variable and one dependent variable using a straight line. Both variables should be quantitative. Linear regression most often uses mean-square error (MSE) to calculate the error of the model.\n",
    "\n",
    "For example, suppose that height was the only determinant of body weight.In this example, if an individual was 70 inches tall, we would predict his weight to be: Weight = 80 + 2 x (70) = 220 lbs. In this simple linear regression, we are examining the impact of one independent variable on the outcome."
   ]
  },
  {
   "cell_type": "code",
   "execution_count": null,
   "id": "412a70bb",
   "metadata": {},
   "outputs": [],
   "source": []
  },
  {
   "cell_type": "code",
   "execution_count": null,
   "id": "d2712165",
   "metadata": {},
   "outputs": [],
   "source": []
  },
  {
   "cell_type": "raw",
   "id": "cb7f7c42",
   "metadata": {},
   "source": [
    "3. In a linear regression, define the slope."
   ]
  },
  {
   "cell_type": "raw",
   "id": "a0d517c7",
   "metadata": {},
   "source": [
    "ans:\n",
    "The slope of a regression line (b) represents the rate of change in y as x changes. Because y is dependent on x, the slope describes the predicted values of y given x. The slope must be calculated before the y-intercept when using a linear regression, as the intercept is calculated using the slope."
   ]
  },
  {
   "cell_type": "code",
   "execution_count": null,
   "id": "defeea91",
   "metadata": {},
   "outputs": [],
   "source": []
  },
  {
   "cell_type": "code",
   "execution_count": null,
   "id": "53200882",
   "metadata": {},
   "outputs": [],
   "source": []
  },
  {
   "cell_type": "raw",
   "id": "13dd296f",
   "metadata": {},
   "source": [
    "4. Determine the graph&#39;s slope, where the lower point on the line is represented as (3, 2) and the\n",
    "higher point is represented as (2, 2)."
   ]
  },
  {
   "cell_type": "raw",
   "id": "9e81892b",
   "metadata": {},
   "source": [
    "ans:\n",
    "The graph's slope, where the lower point on the line is represented as (3, 2) and the higher point is represented as (2, 2) is 0"
   ]
  },
  {
   "cell_type": "code",
   "execution_count": null,
   "id": "aea348fb",
   "metadata": {},
   "outputs": [],
   "source": []
  },
  {
   "cell_type": "code",
   "execution_count": null,
   "id": "0a69d89c",
   "metadata": {},
   "outputs": [],
   "source": []
  },
  {
   "cell_type": "raw",
   "id": "07235a6f",
   "metadata": {},
   "source": [
    "5. In linear regression, what are the conditions for a positive slope?"
   ]
  },
  {
   "cell_type": "raw",
   "id": "400b7ada",
   "metadata": {},
   "source": [
    "ans:\n",
    "If the slope is positive, y increases as x increases, and the function runs \"uphill\" (going left to right). If the slope is zero, y does not change, thus is constant—a horizontal line."
   ]
  },
  {
   "cell_type": "code",
   "execution_count": null,
   "id": "34fa6ac8",
   "metadata": {},
   "outputs": [],
   "source": []
  },
  {
   "cell_type": "code",
   "execution_count": null,
   "id": "f415243c",
   "metadata": {},
   "outputs": [],
   "source": []
  },
  {
   "cell_type": "raw",
   "id": "7bf55ad9",
   "metadata": {},
   "source": [
    "6. In linear regression, what are the conditions for a negative slope?"
   ]
  },
  {
   "cell_type": "raw",
   "id": "f84cc434",
   "metadata": {},
   "source": [
    "ans:\n",
    "If the slope is negative, y decreases as x increases and the function runs downhill."
   ]
  },
  {
   "cell_type": "code",
   "execution_count": null,
   "id": "063416c9",
   "metadata": {},
   "outputs": [],
   "source": []
  },
  {
   "cell_type": "code",
   "execution_count": null,
   "id": "4e555501",
   "metadata": {},
   "outputs": [],
   "source": []
  },
  {
   "cell_type": "raw",
   "id": "77dbd52c",
   "metadata": {},
   "source": [
    "7. What is multiple linear regression and how does it work?"
   ]
  },
  {
   "cell_type": "raw",
   "id": "2ad8c3af",
   "metadata": {},
   "source": [
    "ans:\n",
    "Multiple linear regression refers to a statistical technique that uses two or more independent variables to predict the outcome of a dependent variable. The technique enables analysts to determine the variation of the model and the relative contribution of each independent variable in the total variance."
   ]
  },
  {
   "cell_type": "code",
   "execution_count": null,
   "id": "9e8e5ffe",
   "metadata": {},
   "outputs": [],
   "source": []
  },
  {
   "cell_type": "code",
   "execution_count": null,
   "id": "8f199c95",
   "metadata": {},
   "outputs": [],
   "source": []
  },
  {
   "cell_type": "raw",
   "id": "2b2b2d78",
   "metadata": {},
   "source": [
    "8. In multiple linear regression, define the number of squares due to error."
   ]
  },
  {
   "cell_type": "raw",
   "id": "7b6a37b4",
   "metadata": {},
   "source": [
    "ans:\n",
    "The mean squared error (MSE) tells you how close a regression line is to a set of points. It does this by taking the distances from the points to the regression line (these distances are the “errors”) and squaring them. It's called the mean squared error as you're finding the average of a set of errors."
   ]
  },
  {
   "cell_type": "code",
   "execution_count": null,
   "id": "629ed28d",
   "metadata": {},
   "outputs": [],
   "source": []
  },
  {
   "cell_type": "code",
   "execution_count": null,
   "id": "a9e215c2",
   "metadata": {},
   "outputs": [],
   "source": []
  },
  {
   "cell_type": "raw",
   "id": "b8cc475d",
   "metadata": {},
   "source": [
    "9. In multiple linear regression, define the number of squares due to regression."
   ]
  },
  {
   "cell_type": "raw",
   "id": "e1ddb9ff",
   "metadata": {},
   "source": [
    "ans:\n",
    "Sum of squares is a statistical technique used in regression analysis to determine the dispersion of data points. In a regression analysis, the goal is to determine how well a data series can be fitted to a function that might help to explain how the data series was generated."
   ]
  },
  {
   "cell_type": "code",
   "execution_count": null,
   "id": "8e6c0237",
   "metadata": {},
   "outputs": [],
   "source": []
  },
  {
   "cell_type": "code",
   "execution_count": null,
   "id": "e84b6953",
   "metadata": {},
   "outputs": [],
   "source": []
  },
  {
   "cell_type": "raw",
   "id": "5324128e",
   "metadata": {},
   "source": [
    "10.In a regression equation, what is multicollinearity?"
   ]
  },
  {
   "cell_type": "raw",
   "id": "de36f192",
   "metadata": {},
   "source": [
    "ans:\n",
    "Multicollinearity occurs when two or more independent variables are highly correlated with one another in a regression model. This means that an independent variable can be predicted from another independent variable in a regression model."
   ]
  },
  {
   "cell_type": "code",
   "execution_count": null,
   "id": "30106b9a",
   "metadata": {},
   "outputs": [],
   "source": []
  },
  {
   "cell_type": "code",
   "execution_count": null,
   "id": "55b5b829",
   "metadata": {},
   "outputs": [],
   "source": []
  },
  {
   "cell_type": "raw",
   "id": "d4bc51e0",
   "metadata": {},
   "source": [
    "11. What is heteroskedasticity, and what does it mean?"
   ]
  },
  {
   "cell_type": "raw",
   "id": "a6e49440",
   "metadata": {},
   "source": [
    "ans:\n",
    "Heteroskedasticity (also spelled heteroscedasticity) refers to the error variance, or dependence of scattering, within a minimum of one independent variable within a particular sample.A common cause of variances outside the minimum requirement is often attributed to issues of data quality."
   ]
  },
  {
   "cell_type": "code",
   "execution_count": null,
   "id": "b1c0fa1d",
   "metadata": {},
   "outputs": [],
   "source": []
  },
  {
   "cell_type": "code",
   "execution_count": null,
   "id": "647c40ab",
   "metadata": {},
   "outputs": [],
   "source": []
  },
  {
   "cell_type": "raw",
   "id": "9d227c8d",
   "metadata": {},
   "source": [
    "12. Describe the concept of ridge regression."
   ]
  },
  {
   "cell_type": "raw",
   "id": "c400fee0",
   "metadata": {},
   "source": [
    "ans:\n",
    " Ridge Regression is a technique for analyzing multiple regression data that suffer from multicollinearity.By adding a degree of bias to the regression estimates, ridge regression reduces the standard errors. It is hoped that the net effect will be to give estimates that are more reliable."
   ]
  },
  {
   "cell_type": "code",
   "execution_count": null,
   "id": "50a51f94",
   "metadata": {},
   "outputs": [],
   "source": []
  },
  {
   "cell_type": "code",
   "execution_count": null,
   "id": "0a072ec4",
   "metadata": {},
   "outputs": [],
   "source": []
  },
  {
   "cell_type": "raw",
   "id": "116f275e",
   "metadata": {},
   "source": [
    "13. Describe the concept of lasso regression."
   ]
  },
  {
   "cell_type": "raw",
   "id": "2367ccc0",
   "metadata": {},
   "source": [
    "ans:\n",
    "In statistics and machine learning, lasso (least absolute shrinkage and selection operator; also Lasso or LASSO) is a regression analysis method that performs both variable selection and regularization in order to enhance the prediction accuracy and interpretability of the resulting statistical model."
   ]
  },
  {
   "cell_type": "code",
   "execution_count": null,
   "id": "c6bb3630",
   "metadata": {},
   "outputs": [],
   "source": []
  },
  {
   "cell_type": "code",
   "execution_count": null,
   "id": "fff33ecb",
   "metadata": {},
   "outputs": [],
   "source": []
  },
  {
   "cell_type": "raw",
   "id": "7358ee36",
   "metadata": {},
   "source": [
    "14. What is polynomial regression and how does it work?"
   ]
  },
  {
   "cell_type": "raw",
   "id": "83d018a8",
   "metadata": {},
   "source": [
    "ans:\n",
    "Polynomial Regression is a form of Linear regression known as a special case of Multiple linear regression which estimates the relationship as an nth degree polynomial. Polynomial Regression is sensitive to outliers so the presence of one or two outliers can also badly affect the performance."
   ]
  },
  {
   "cell_type": "code",
   "execution_count": null,
   "id": "ce48d6b7",
   "metadata": {},
   "outputs": [],
   "source": []
  },
  {
   "cell_type": "code",
   "execution_count": null,
   "id": "ef6b6cb5",
   "metadata": {},
   "outputs": [],
   "source": []
  },
  {
   "cell_type": "raw",
   "id": "d4840e2b",
   "metadata": {},
   "source": [
    "15. Describe the basis function."
   ]
  },
  {
   "cell_type": "raw",
   "id": "bf44d9d5",
   "metadata": {},
   "source": [
    "ans:\n",
    "This is a generalization of linear regression that essentially replaces each input with a function of the input. (A linear basis function model that uses the identity function is just linear regression.)"
   ]
  },
  {
   "cell_type": "code",
   "execution_count": null,
   "id": "93ad5e30",
   "metadata": {},
   "outputs": [],
   "source": []
  },
  {
   "cell_type": "code",
   "execution_count": null,
   "id": "3d114aa2",
   "metadata": {},
   "outputs": [],
   "source": []
  },
  {
   "cell_type": "raw",
   "id": "487f031f",
   "metadata": {},
   "source": [
    "16. Describe how logistic regression works."
   ]
  },
  {
   "cell_type": "raw",
   "id": "d76fac5c",
   "metadata": {},
   "source": [
    "ans:\n",
    "Logistic regression uses an equation as the representation, very much like linear regression. Input values (x) are combined linearly using weights or coefficient values (referred to as the Greek capital letter Beta) to predict an output value (y).    "
   ]
  },
  {
   "cell_type": "code",
   "execution_count": null,
   "id": "a84b3811",
   "metadata": {},
   "outputs": [],
   "source": []
  }
 ],
 "metadata": {
  "kernelspec": {
   "display_name": "Python 3",
   "language": "python",
   "name": "python3"
  },
  "language_info": {
   "codemirror_mode": {
    "name": "ipython",
    "version": 3
   },
   "file_extension": ".py",
   "mimetype": "text/x-python",
   "name": "python",
   "nbconvert_exporter": "python",
   "pygments_lexer": "ipython3",
   "version": "3.8.8"
  }
 },
 "nbformat": 4,
 "nbformat_minor": 5
}
